{
 "cells": [
  {
   "cell_type": "code",
   "execution_count": 0,
   "metadata": {
    "application/vnd.databricks.v1+cell": {
     "cellMetadata": {
      "byteLimit": 2048000,
      "rowLimit": 10000
     },
     "inputWidgets": {},
     "nuid": "b134cce8-f719-4c9d-9f4a-8117081b4a90",
     "showTitle": false,
     "tableResultSettingsMap": {},
     "title": ""
    }
   },
   "outputs": [],
   "source": [
    "import pyspark.sql.functions as F\n",
    "import logging\n",
    "from pyspark.sql.types import ArrayType, StringType, IntegerType, DoubleType, LongType, StructType, StructField"
   ]
  },
  {
   "cell_type": "code",
   "execution_count": 0,
   "metadata": {
    "application/vnd.databricks.v1+cell": {
     "cellMetadata": {
      "byteLimit": 2048000,
      "rowLimit": 10000
     },
     "inputWidgets": {},
     "nuid": "02a4cf2e-0259-46ff-9c6f-c380d0f3ab09",
     "showTitle": false,
     "tableResultSettingsMap": {},
     "title": ""
    }
   },
   "outputs": [],
   "source": [
    "%run ./logger"
   ]
  },
  {
   "cell_type": "code",
   "execution_count": 0,
   "metadata": {
    "application/vnd.databricks.v1+cell": {
     "cellMetadata": {
      "byteLimit": 2048000,
      "rowLimit": 10000
     },
     "inputWidgets": {},
     "nuid": "343e872b-3361-448f-ba1e-eabc96dab196",
     "showTitle": false,
     "tableResultSettingsMap": {},
     "title": ""
    }
   },
   "outputs": [],
   "source": [
    "logger = Logger(\"silver_logger\", logging.INFO).setup()\n",
    "logger.info(\"Logging started for silver...\")\n"
   ]
  },
  {
   "cell_type": "code",
   "execution_count": 0,
   "metadata": {
    "application/vnd.databricks.v1+cell": {
     "cellMetadata": {
      "byteLimit": 2048000,
      "rowLimit": 10000
     },
     "inputWidgets": {},
     "nuid": "bbd42276-7500-41c9-beb6-becf057da935",
     "showTitle": false,
     "tableResultSettingsMap": {},
     "title": ""
    }
   },
   "outputs": [],
   "source": [
    "base_path = '/Volumes/students_data/default/landing'\n",
    "date = '09-01-2023'\n",
    "filename = 'LMS_'+date+'.csv'\n",
    "file_path = base_path+'/'+filename\n",
    "\n",
    "catalog_name = \"students_data\"\n",
    "bronze_table_name = \"bronze_students_table\"\n",
    "bronze_schema_name = \"students_bronze\"\n",
    "silver_table_name = \"silver_students_table\"\n",
    "silver_schema_name = \"students_silver\""
   ]
  },
  {
   "cell_type": "code",
   "execution_count": 0,
   "metadata": {
    "application/vnd.databricks.v1+cell": {
     "cellMetadata": {
      "byteLimit": 2048000,
      "rowLimit": 10000
     },
     "inputWidgets": {},
     "nuid": "f3b4c37a-e19d-4855-b2b7-485de335cb42",
     "showTitle": false,
     "tableResultSettingsMap": {},
     "title": ""
    }
   },
   "outputs": [],
   "source": [
    "class Silver:\n",
    "    def __init__(self, catalog_name, bronze_table_name, bronze_schema_name, silver_table_name,silver_schema_name):\n",
    "        self.bronze_table_name = bronze_table_name\n",
    "        self.bronze_schema_name = bronze_schema_name\n",
    "        self.silver_table_name = silver_table_name\n",
    "        self.silver_schema_name = silver_schema_name\n",
    "        self.catalog_name = catalog_name\n",
    "\n",
    "    def read_bronze_table(self):\n",
    "        silver_df = spark.sql(f\"select * from {self.catalog_name}.{self.bronze_schema_name}.{self.bronze_table_name} where File_Name='{file_path}'\") \n",
    "        logger.info(\"silver data read completed...\")\n",
    "\n",
    "        if silver_df.count()==0:\n",
    "            raise Exception(\"No data found in bronze table\")\n",
    "\n",
    "        return silver_df\n",
    "\n",
    "    def transform(self, silver_df):\n",
    "        silver_df = silver_df.filter(silver_df[\"Age\"]>0) \\\n",
    "                    .dropDuplicates(subset=[\"Student_ID\", \"Course_ID\"]) \\\n",
    "                    .withColumn(\"First_Name\",F.split(silver_df[\"Name\"], \" \").getItem(0)) \\\n",
    "                    .withColumn(\"Last_Name\",F.split(silver_df[\"Name\"], \" \").getItem(1))\\\n",
    "                    .drop(F.col(\"Name\"), F.col(\"Load_Time\")) \\\n",
    "                    .withColumn(\"Gender\", F.when(F.upper(silver_df[\"Gender\"])=='M', \"Male\") \\\n",
    "                                            .when(F.upper(silver_df[\"Gender\"])=='F', \"Female\").otherwise(\"Unknown\")) \n",
    "                    \n",
    "\n",
    "        transformed_df = silver_df.withColumn(\"Enrollment_Date\", F.to_date(silver_df[\"Enrollment_Date\"], 'M/d/yyyy'))\\\n",
    "                            .withColumn(\"Completion_Date\", F.to_date(silver_df[\"Completion_Date\"], 'M/d/yyyy'))\\\n",
    "                            .withColumn(\"Assignment_Scores\",\n",
    "                                        F.split(F.regexp_replace(silver_df[\"Assignment_Scores\"],'[\\[\\]\\s]',''),',').cast(ArrayType(IntegerType()))) \\\n",
    "                            .withColumn(\"Course_Duration\", F.datediff(silver_df[\"Completion_Date\"], silver_df[\"Enrollment_Date\"]))\n",
    "\n",
    "        return transformed_df\n",
    "    \n",
    "    def write_silver_table(self, transformed_df):\n",
    "        transformed_df.write.format(\"delta\").mode(\"append\").saveAsTable(f\"{self.catalog_name}.{self.silver_schema_name}.{self.silver_table_name}\")\n",
    "        logger.info(\"Loaded silver table...\")\n",
    "\n",
    "\n",
    "obj = Silver(catalog_name=catalog_name, bronze_schema_name=bronze_schema_name, bronze_table_name=bronze_table_name, silver_schema_name=silver_schema_name, silver_table_name=silver_table_name)      \n",
    "silver_df = obj.read_bronze_table()\n",
    "clean_silver_df = obj.transform(silver_df)   \n",
    "obj.write_silver_table(clean_silver_df)     \n",
    "\n",
    "        "
   ]
  },
  {
   "cell_type": "code",
   "execution_count": 0,
   "metadata": {
    "application/vnd.databricks.v1+cell": {
     "cellMetadata": {},
     "inputWidgets": {},
     "nuid": "146022e6-64ab-4f27-b46f-e866b11ab70c",
     "showTitle": false,
     "tableResultSettingsMap": {},
     "title": ""
    }
   },
   "outputs": [],
   "source": []
  },
  {
   "cell_type": "code",
   "execution_count": 0,
   "metadata": {
    "application/vnd.databricks.v1+cell": {
     "cellMetadata": {},
     "inputWidgets": {},
     "nuid": "427a85ac-9b20-46f9-9de1-accdef638d84",
     "showTitle": false,
     "tableResultSettingsMap": {},
     "title": ""
    }
   },
   "outputs": [],
   "source": []
  }
 ],
 "metadata": {
  "application/vnd.databricks.v1+notebook": {
   "computePreferences": null,
   "dashboards": [],
   "environmentMetadata": {
    "base_environment": "",
    "environment_version": "2"
   },
   "inputWidgetPreferences": null,
   "language": "python",
   "notebookMetadata": {
    "mostRecentlyExecutedCommandWithImplicitDF": {
     "commandId": 5445002160534866,
     "dataframes": [
      "_sqldf"
     ]
    },
    "pythonIndentUnit": 4
   },
   "notebookName": "silver_load",
   "widgets": {}
  },
  "language_info": {
   "name": "python"
  }
 },
 "nbformat": 4,
 "nbformat_minor": 0
}
