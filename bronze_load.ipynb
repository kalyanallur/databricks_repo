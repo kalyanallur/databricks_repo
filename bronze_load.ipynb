{
 "cells": [
  {
   "cell_type": "code",
   "execution_count": 0,
   "metadata": {
    "application/vnd.databricks.v1+cell": {
     "cellMetadata": {
      "byteLimit": 2048000,
      "rowLimit": 10000
     },
     "inputWidgets": {},
     "nuid": "814278a0-b493-4267-b76b-b690e7ea3464",
     "showTitle": false,
     "tableResultSettingsMap": {},
     "title": ""
    }
   },
   "outputs": [],
   "source": [
    "from pyspark.sql.types import StructType, StructField, StringType, IntegerType, DateType, DoubleType, ArrayType\n",
    "import pyspark.sql.functions as F\n",
    "import logging"
   ]
  },
  {
   "cell_type": "code",
   "execution_count": 0,
   "metadata": {
    "application/vnd.databricks.v1+cell": {
     "cellMetadata": {
      "byteLimit": 2048000,
      "rowLimit": 10000
     },
     "inputWidgets": {},
     "nuid": "5a556fa6-7771-4ae6-985f-c7237907cbf6",
     "showTitle": false,
     "tableResultSettingsMap": {},
     "title": ""
    }
   },
   "outputs": [],
   "source": [
    "%run ./logger"
   ]
  },
  {
   "cell_type": "code",
   "execution_count": 0,
   "metadata": {
    "application/vnd.databricks.v1+cell": {
     "cellMetadata": {
      "byteLimit": 2048000,
      "rowLimit": 10000
     },
     "inputWidgets": {},
     "nuid": "001838e7-3d66-4cc1-8f29-5cf5f4320e9b",
     "showTitle": false,
     "tableResultSettingsMap": {},
     "title": ""
    }
   },
   "outputs": [],
   "source": [
    "bronze_logger = Logger(\"bronze_logger\", logging.INFO).setup()\n",
    "bronze_logger.info(\"Logging Started...in bronze \")"
   ]
  },
  {
   "cell_type": "code",
   "execution_count": 0,
   "metadata": {
    "application/vnd.databricks.v1+cell": {
     "cellMetadata": {
      "byteLimit": 2048000,
      "rowLimit": 10000
     },
     "inputWidgets": {},
     "nuid": "acc71f79-5a52-4b7b-aaad-97041d7d4229",
     "showTitle": false,
     "tableResultSettingsMap": {},
     "title": ""
    }
   },
   "outputs": [],
   "source": [
    "date = '09-01-2023'\n"
   ]
  },
  {
   "cell_type": "code",
   "execution_count": 0,
   "metadata": {
    "application/vnd.databricks.v1+cell": {
     "cellMetadata": {
      "byteLimit": 2048000,
      "rowLimit": 10000
     },
     "inputWidgets": {},
     "nuid": "120cd3ff-22e7-4af8-b334-b46ddff29852",
     "showTitle": false,
     "tableResultSettingsMap": {},
     "title": ""
    }
   },
   "outputs": [],
   "source": [
    "base_path = '/Volumes/students_data/default/landing'\n",
    "filename = 'LMS_'+date+'.csv'\n",
    "file_path = base_path+'/'+filename\n",
    "\n",
    "catalog_name = \"students_data\"\n",
    "bronze_table_name = \"bronze_students_table\"\n",
    "bronze_schema_name = \"students_bronze\"\n"
   ]
  },
  {
   "cell_type": "code",
   "execution_count": 0,
   "metadata": {
    "application/vnd.databricks.v1+cell": {
     "cellMetadata": {
      "byteLimit": 2048000,
      "rowLimit": 10000
     },
     "inputWidgets": {},
     "nuid": "4cf2799f-61ac-4403-ac9e-44ede9913f3f",
     "showTitle": false,
     "tableResultSettingsMap": {},
     "title": ""
    }
   },
   "outputs": [],
   "source": [
    "class Bronze:\n",
    "    def __init__(self, file_path, catalog_name , schema_name, table_name):\n",
    "        self.file_path = file_path\n",
    "        self.catalog_name = catalog_name\n",
    "        self.schema_name = schema_name\n",
    "        self.table_name = table_name\n",
    "\n",
    "    def get_schema(self):\n",
    "        schema = StructType([\n",
    "                    StructField('Student_ID', IntegerType(), True), \n",
    "                    StructField('Name', StringType(), True), \n",
    "                    StructField('Age', IntegerType(), True), \n",
    "                    StructField('Gender', StringType(), True), \n",
    "                    StructField('Grade_Level', IntegerType(), True), \n",
    "                    StructField('Course_ID', StringType(), True), \n",
    "                    StructField('Course_Name', StringType(), True), \n",
    "                    StructField('Enrollment_Date', StringType(), True), \n",
    "                    StructField('Completion_Date', StringType(), True), \n",
    "                    StructField('Status', StringType(), True), \n",
    "                    StructField('Final_Grade', StringType(), True), \n",
    "                    StructField('Attendance_Rate', IntegerType(), True), \n",
    "                    StructField('Time_Spent_on_Course_hrs', IntegerType(), True), \n",
    "                    StructField('Assignments_Completed', IntegerType(), True), \n",
    "                    StructField('Quizzes_Completed', IntegerType(), True), \n",
    "                    StructField('Forum_Posts', IntegerType(), True), \n",
    "                    StructField('Messages_Sent', IntegerType(), True), \n",
    "                    StructField('Quiz_Average_Score', IntegerType(), True), \n",
    "                    StructField('Assignment_Scores', StringType(), True), \n",
    "                    StructField('Assignment_Average_Score', DoubleType(), True), \n",
    "                    StructField('Project_Score', IntegerType(), True), \n",
    "                    StructField('Extra_Credit', IntegerType(), True), \n",
    "                    StructField('Overall_Performance', IntegerType(), True), \n",
    "                    StructField('Feedback_Score', DoubleType(), True), \n",
    "                    StructField('Parent_Involvement', StringType(), True), \n",
    "                    StructField('Demographic_Group', StringType(), True), \n",
    "                    StructField('Internet_Access', StringType(), True),\n",
    "                    StructField('Learning_Disabilities', StringType(), True), \n",
    "                    StructField('Preferred_Learning_Style', StringType(), True), \n",
    "                    StructField('Language_Proficiency', StringType(), True), \n",
    "                    StructField('Participation_Rate', StringType(), True), \n",
    "                    StructField('Completion_Time_Days', IntegerType(), True), \n",
    "                    StructField('Performance_Score', DoubleType(), True), \n",
    "                    StructField('Course_Completion_Rate', DoubleType(), True)\n",
    "                ])\n",
    "        return schema\n",
    "    \n",
    "    def read_landing(self):\n",
    "        df = spark.read.format(\"csv\").option(\"header\", True).schema(self.get_schema()).load(self.file_path).withColumn(\"Load_Time\", F.current_timestamp()).withColumn(\"File_Name\", F.lit(self.file_path))\n",
    "        bronze_logger.info(\"bronze data read completed...\")\n",
    "        return df\n",
    "    \n",
    "    def write_df(self, df):\n",
    "        df.write.format(\"delta\").mode(\"overwrite\").saveAsTable(f\"{self.catalog_name}.{self.schema_name}.{self.table_name}\")\n",
    "        bronze_logger.info(\"bronze data write completed...\")\n",
    "\n",
    "bronze = Bronze(file_path=file_path, catalog_name=catalog_name, schema_name=bronze_schema_name, table_name=bronze_table_name)\n",
    "df = bronze.read_landing()\n",
    "bronze.write_df(df)\n",
    "        "
   ]
  },
  {
   "cell_type": "code",
   "execution_count": 0,
   "metadata": {
    "application/vnd.databricks.v1+cell": {
     "cellMetadata": {},
     "inputWidgets": {},
     "nuid": "8b0f0cfe-1502-4f3d-915c-a511a487b91e",
     "showTitle": false,
     "tableResultSettingsMap": {},
     "title": ""
    }
   },
   "outputs": [],
   "source": []
  }
 ],
 "metadata": {
  "application/vnd.databricks.v1+notebook": {
   "computePreferences": null,
   "dashboards": [],
   "environmentMetadata": {
    "base_environment": "",
    "environment_version": "2"
   },
   "inputWidgetPreferences": null,
   "language": "python",
   "notebookMetadata": {
    "mostRecentlyExecutedCommandWithImplicitDF": {
     "commandId": 8650211047447654,
     "dataframes": [
      "_sqldf"
     ]
    },
    "pythonIndentUnit": 4
   },
   "notebookName": "bronze_load",
   "widgets": {}
  },
  "language_info": {
   "name": "python"
  }
 },
 "nbformat": 4,
 "nbformat_minor": 0
}
