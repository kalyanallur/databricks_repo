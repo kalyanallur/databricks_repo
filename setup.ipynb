{
 "cells": [
  {
   "cell_type": "code",
   "execution_count": 0,
   "metadata": {
    "application/vnd.databricks.v1+cell": {
     "cellMetadata": {
      "byteLimit": 2048000,
      "rowLimit": 10000
     },
     "inputWidgets": {},
     "nuid": "440d31b8-1991-4d96-854e-7ae57e3a8d03",
     "showTitle": false,
     "tableResultSettingsMap": {},
     "title": ""
    }
   },
   "outputs": [],
   "source": [
    "from pyspark.sql.functions import *"
   ]
  },
  {
   "cell_type": "code",
   "execution_count": 0,
   "metadata": {
    "application/vnd.databricks.v1+cell": {
     "cellMetadata": {},
     "inputWidgets": {},
     "nuid": "187e8814-24c1-4c9d-b783-690bdb947322",
     "showTitle": false,
     "tableResultSettingsMap": {},
     "title": ""
    }
   },
   "outputs": [],
   "source": []
  },
  {
   "cell_type": "code",
   "execution_count": 0,
   "metadata": {
    "application/vnd.databricks.v1+cell": {
     "cellMetadata": {
      "byteLimit": 2048000,
      "rowLimit": 10000
     },
     "inputWidgets": {},
     "nuid": "b09db303-f86b-422c-9743-dcbf08d681fa",
     "showTitle": false,
     "tableResultSettingsMap": {},
     "title": ""
    }
   },
   "outputs": [],
   "source": [
    "catalog_name = 'students_data'\n",
    "schema_names = ['students_bronze', 'students_silver', 'students_gold']"
   ]
  },
  {
   "cell_type": "code",
   "execution_count": 0,
   "metadata": {
    "application/vnd.databricks.v1+cell": {
     "cellMetadata": {
      "byteLimit": 2048000,
      "rowLimit": 10000
     },
     "inputWidgets": {},
     "nuid": "d99d03aa-f4b0-4f52-b51b-dbd19421cc29",
     "showTitle": false,
     "tableResultSettingsMap": {},
     "title": ""
    }
   },
   "outputs": [],
   "source": [
    "class Setup:\n",
    "    def __init__(self, catalog_name, schema_names):\n",
    "        self.catalog_name = catalog_name\n",
    "        self.schema_names = schema_names\n",
    "\n",
    "    def create_catalog(self):\n",
    "        spark.sql(f\"create catalog if not exists {self.catalog_name}\")\n",
    "        print(\"catalog created successfully...\")\n",
    "\n",
    "    def create_schema(self):\n",
    "        for schema_name in self.schema_names:\n",
    "            spark.sql(f\"create database if not exists {self.catalog_name}.{schema_name}\")\n",
    "        print(\"schemas created successfully...\")\n",
    "\n",
    "    def validate_catalog(self):\n",
    "        res = spark.sql(\"show catalogs \").filter(col(\"catalog\")==self.catalog_name).collect()[0][0]\n",
    "        if res:\n",
    "            print(f\"catalog {self.catalog_name} found...\")\n",
    "        else:\n",
    "            print(f\"catalog {self.catalog_name} Not found...\")\n",
    "\n",
    "    def validate_schema(self):\n",
    "        for schema_name in self.schema_names:\n",
    "            res = spark.sql(f\"show databases in {self.catalog_name}\").filter(col(\"databaseName\")== schema_name).collect()[0][0]\n",
    "            if res:\n",
    "                print(f\"schema {schema_name} found...\")\n",
    "            else:\n",
    "                print(f\"schema {schema_name} Not found...\")\n",
    "\n",
    "obj = Setup(catalog_name, schema_names)\n",
    "obj.create_catalog()\n",
    "obj.validate_catalog()\n",
    "obj.create_schema()\n",
    "obj.validate_schema()"
   ]
  },
  {
   "cell_type": "code",
   "execution_count": 0,
   "metadata": {
    "application/vnd.databricks.v1+cell": {
     "cellMetadata": {
      "byteLimit": 2048000,
      "rowLimit": 10000
     },
     "inputWidgets": {},
     "nuid": "95f904a9-db98-4561-a21a-8a6818990f5b",
     "showTitle": false,
     "tableResultSettingsMap": {},
     "title": ""
    }
   },
   "outputs": [],
   "source": []
  },
  {
   "cell_type": "code",
   "execution_count": 0,
   "metadata": {
    "application/vnd.databricks.v1+cell": {
     "cellMetadata": {
      "byteLimit": 2048000,
      "rowLimit": 10000
     },
     "inputWidgets": {},
     "nuid": "e698f39f-7ef7-49e1-a1e8-caf3305bc160",
     "showTitle": false,
     "tableResultSettingsMap": {},
     "title": ""
    }
   },
   "outputs": [],
   "source": []
  },
  {
   "cell_type": "code",
   "execution_count": 0,
   "metadata": {
    "application/vnd.databricks.v1+cell": {
     "cellMetadata": {
      "byteLimit": 2048000,
      "rowLimit": 10000
     },
     "inputWidgets": {},
     "nuid": "20659e9d-5cec-4623-98dd-97084fe0a8d6",
     "showTitle": false,
     "tableResultSettingsMap": {},
     "title": ""
    }
   },
   "outputs": [],
   "source": []
  },
  {
   "cell_type": "code",
   "execution_count": 0,
   "metadata": {
    "application/vnd.databricks.v1+cell": {
     "cellMetadata": {
      "byteLimit": 2048000,
      "rowLimit": 10000
     },
     "inputWidgets": {},
     "nuid": "d09fac58-91eb-443e-b475-b9899f20adee",
     "showTitle": false,
     "tableResultSettingsMap": {},
     "title": ""
    }
   },
   "outputs": [],
   "source": []
  }
 ],
 "metadata": {
  "application/vnd.databricks.v1+notebook": {
   "computePreferences": null,
   "dashboards": [],
   "environmentMetadata": {
    "base_environment": "",
    "environment_version": "2"
   },
   "inputWidgetPreferences": null,
   "language": "python",
   "notebookMetadata": {
    "mostRecentlyExecutedCommandWithImplicitDF": {
     "commandId": -1,
     "dataframes": [
      "_sqldf"
     ]
    },
    "pythonIndentUnit": 4
   },
   "notebookName": "setup",
   "widgets": {}
  },
  "language_info": {
   "name": "python"
  }
 },
 "nbformat": 4,
 "nbformat_minor": 0
}
